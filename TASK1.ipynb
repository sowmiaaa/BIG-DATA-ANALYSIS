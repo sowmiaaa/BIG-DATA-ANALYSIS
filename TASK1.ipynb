{
 "cells": [
  {
   "cell_type": "code",
   "execution_count": 2,
   "id": "aebfff62-de5c-4e95-9e36-a5fdbb3484b8",
   "metadata": {},
   "outputs": [],
   "source": [
    "import subprocess \n",
    "import sys\n",
    "def install_package(package):\n",
    "     subprocess.check_call([sys.executable ,\"-m\",\"pip\",\"install\",package])\n",
    "install_package('pandas')\n",
    "install_package('numpy')\n",
    "\n",
    "import pandas as pd\n",
    "import numpy as np"
   ]
  },
  {
   "cell_type": "code",
   "execution_count": 3,
   "id": "951b86e2-5c37-44cf-a116-7e5f30cfe5ee",
   "metadata": {},
   "outputs": [
    {
     "name": "stdout",
     "output_type": "stream",
     "text": [
      "Requirement already satisfied: matplotlib in c:\\users\\sowmi\\desktop\\pyspark.proj\\my_venv\\lib\\site-packages (3.10.3)\n",
      "Requirement already satisfied: seaborn in c:\\users\\sowmi\\desktop\\pyspark.proj\\my_venv\\lib\\site-packages (0.13.2)\n",
      "Requirement already satisfied: contourpy>=1.0.1 in c:\\users\\sowmi\\desktop\\pyspark.proj\\my_venv\\lib\\site-packages (from matplotlib) (1.3.2)\n",
      "Requirement already satisfied: cycler>=0.10 in c:\\users\\sowmi\\desktop\\pyspark.proj\\my_venv\\lib\\site-packages (from matplotlib) (0.12.1)\n",
      "Requirement already satisfied: fonttools>=4.22.0 in c:\\users\\sowmi\\desktop\\pyspark.proj\\my_venv\\lib\\site-packages (from matplotlib) (4.58.5)\n",
      "Requirement already satisfied: kiwisolver>=1.3.1 in c:\\users\\sowmi\\desktop\\pyspark.proj\\my_venv\\lib\\site-packages (from matplotlib) (1.4.8)\n",
      "Requirement already satisfied: numpy>=1.23 in c:\\users\\sowmi\\desktop\\pyspark.proj\\my_venv\\lib\\site-packages (from matplotlib) (2.3.1)\n",
      "Requirement already satisfied: packaging>=20.0 in c:\\users\\sowmi\\desktop\\pyspark.proj\\my_venv\\lib\\site-packages (from matplotlib) (25.0)\n",
      "Requirement already satisfied: pillow>=8 in c:\\users\\sowmi\\desktop\\pyspark.proj\\my_venv\\lib\\site-packages (from matplotlib) (11.3.0)\n",
      "Requirement already satisfied: pyparsing>=2.3.1 in c:\\users\\sowmi\\desktop\\pyspark.proj\\my_venv\\lib\\site-packages (from matplotlib) (3.2.3)\n",
      "Requirement already satisfied: python-dateutil>=2.7 in c:\\users\\sowmi\\desktop\\pyspark.proj\\my_venv\\lib\\site-packages (from matplotlib) (2.9.0.post0)\n",
      "Requirement already satisfied: pandas>=1.2 in c:\\users\\sowmi\\desktop\\pyspark.proj\\my_venv\\lib\\site-packages (from seaborn) (2.3.1)\n",
      "Requirement already satisfied: pytz>=2020.1 in c:\\users\\sowmi\\desktop\\pyspark.proj\\my_venv\\lib\\site-packages (from pandas>=1.2->seaborn) (2025.2)\n",
      "Requirement already satisfied: tzdata>=2022.7 in c:\\users\\sowmi\\desktop\\pyspark.proj\\my_venv\\lib\\site-packages (from pandas>=1.2->seaborn) (2025.2)\n",
      "Requirement already satisfied: six>=1.5 in c:\\users\\sowmi\\desktop\\pyspark.proj\\my_venv\\lib\\site-packages (from python-dateutil>=2.7->matplotlib) (1.17.0)\n"
     ]
    }
   ],
   "source": [
    "import sys\n",
    "!\"{sys.executable}\" -m pip install matplotlib seaborn"
   ]
  },
  {
   "cell_type": "code",
   "execution_count": 4,
   "id": "c3b60062-cd80-4e2a-959b-879c999af315",
   "metadata": {},
   "outputs": [],
   "source": [
    "import pandas as pd\n",
    "import numpy as np\n",
    "import matplotlib.pyplot as plt\n",
    "import seaborn as sns\n",
    "%matplotlib inline"
   ]
  },
  {
   "cell_type": "code",
   "execution_count": 5,
   "id": "60121f09-801c-448a-9aa6-8007d6811657",
   "metadata": {},
   "outputs": [
    {
     "data": {
      "text/html": [
       "<div>\n",
       "<style scoped>\n",
       "    .dataframe tbody tr th:only-of-type {\n",
       "        vertical-align: middle;\n",
       "    }\n",
       "\n",
       "    .dataframe tbody tr th {\n",
       "        vertical-align: top;\n",
       "    }\n",
       "\n",
       "    .dataframe thead th {\n",
       "        text-align: right;\n",
       "    }\n",
       "</style>\n",
       "<table border=\"1\" class=\"dataframe\">\n",
       "  <thead>\n",
       "    <tr style=\"text-align: right;\">\n",
       "      <th></th>\n",
       "      <th>city</th>\n",
       "      <th>date</th>\n",
       "      <th>aqi</th>\n",
       "      <th>pm2_5</th>\n",
       "      <th>pm10</th>\n",
       "      <th>no2</th>\n",
       "      <th>o3</th>\n",
       "      <th>temperature</th>\n",
       "      <th>humidity</th>\n",
       "      <th>hospital_admissions</th>\n",
       "      <th>population_density</th>\n",
       "      <th>hospital_capacity</th>\n",
       "    </tr>\n",
       "  </thead>\n",
       "  <tbody>\n",
       "    <tr>\n",
       "      <th>0</th>\n",
       "      <td>Los Angeles</td>\n",
       "      <td>2020-01-01</td>\n",
       "      <td>65</td>\n",
       "      <td>34.0</td>\n",
       "      <td>52.7</td>\n",
       "      <td>2.2</td>\n",
       "      <td>38.5</td>\n",
       "      <td>33.5</td>\n",
       "      <td>33</td>\n",
       "      <td>5</td>\n",
       "      <td>Rural</td>\n",
       "      <td>1337</td>\n",
       "    </tr>\n",
       "    <tr>\n",
       "      <th>1</th>\n",
       "      <td>Beijing</td>\n",
       "      <td>2020-01-02</td>\n",
       "      <td>137</td>\n",
       "      <td>33.7</td>\n",
       "      <td>31.5</td>\n",
       "      <td>36.7</td>\n",
       "      <td>27.5</td>\n",
       "      <td>-1.6</td>\n",
       "      <td>32</td>\n",
       "      <td>4</td>\n",
       "      <td>Urban</td>\n",
       "      <td>1545</td>\n",
       "    </tr>\n",
       "    <tr>\n",
       "      <th>2</th>\n",
       "      <td>London</td>\n",
       "      <td>2020-01-03</td>\n",
       "      <td>266</td>\n",
       "      <td>43.0</td>\n",
       "      <td>59.6</td>\n",
       "      <td>30.4</td>\n",
       "      <td>57.3</td>\n",
       "      <td>36.4</td>\n",
       "      <td>25</td>\n",
       "      <td>10</td>\n",
       "      <td>Suburban</td>\n",
       "      <td>1539</td>\n",
       "    </tr>\n",
       "    <tr>\n",
       "      <th>3</th>\n",
       "      <td>Mexico City</td>\n",
       "      <td>2020-01-04</td>\n",
       "      <td>293</td>\n",
       "      <td>33.7</td>\n",
       "      <td>37.9</td>\n",
       "      <td>12.3</td>\n",
       "      <td>42.7</td>\n",
       "      <td>-1.0</td>\n",
       "      <td>67</td>\n",
       "      <td>10</td>\n",
       "      <td>Urban</td>\n",
       "      <td>552</td>\n",
       "    </tr>\n",
       "    <tr>\n",
       "      <th>4</th>\n",
       "      <td>Delhi</td>\n",
       "      <td>2020-01-05</td>\n",
       "      <td>493</td>\n",
       "      <td>50.3</td>\n",
       "      <td>34.8</td>\n",
       "      <td>31.2</td>\n",
       "      <td>35.6</td>\n",
       "      <td>33.5</td>\n",
       "      <td>72</td>\n",
       "      <td>9</td>\n",
       "      <td>Suburban</td>\n",
       "      <td>1631</td>\n",
       "    </tr>\n",
       "  </tbody>\n",
       "</table>\n",
       "</div>"
      ],
      "text/plain": [
       "          city        date  aqi  pm2_5  pm10   no2    o3  temperature  \\\n",
       "0  Los Angeles  2020-01-01   65   34.0  52.7   2.2  38.5         33.5   \n",
       "1      Beijing  2020-01-02  137   33.7  31.5  36.7  27.5         -1.6   \n",
       "2       London  2020-01-03  266   43.0  59.6  30.4  57.3         36.4   \n",
       "3  Mexico City  2020-01-04  293   33.7  37.9  12.3  42.7         -1.0   \n",
       "4        Delhi  2020-01-05  493   50.3  34.8  31.2  35.6         33.5   \n",
       "\n",
       "   humidity  hospital_admissions population_density  hospital_capacity  \n",
       "0        33                    5              Rural               1337  \n",
       "1        32                    4              Urban               1545  \n",
       "2        25                   10           Suburban               1539  \n",
       "3        67                   10              Urban                552  \n",
       "4        72                    9           Suburban               1631  "
      ]
     },
     "execution_count": 5,
     "metadata": {},
     "output_type": "execute_result"
    }
   ],
   "source": [
    "df=pd.read_csv('air_quality_health_dataset.csv',encoding='latin-1')\n",
    "df.head()"
   ]
  },
  {
   "cell_type": "code",
   "execution_count": 6,
   "id": "8d49981b-845f-46bb-9ca3-ade3c099481c",
   "metadata": {},
   "outputs": [
    {
     "name": "stdout",
     "output_type": "stream",
     "text": [
      "              city        date  aqi  pm2_5  pm10   no2    o3  temperature  \\\n",
      "0      Los Angeles  2020-01-01   65   34.0  52.7   2.2  38.5         33.5   \n",
      "1          Beijing  2020-01-02  137   33.7  31.5  36.7  27.5         -1.6   \n",
      "2           London  2020-01-03  266   43.0  59.6  30.4  57.3         36.4   \n",
      "3      Mexico City  2020-01-04  293   33.7  37.9  12.3  42.7         -1.0   \n",
      "4            Delhi  2020-01-05  493   50.3  34.8  31.2  35.6         33.5   \n",
      "...            ...         ...  ...    ...   ...   ...   ...          ...   \n",
      "88484        Tokyo  2262-04-06   22   23.4  53.4  24.3  58.9          9.1   \n",
      "88485        Delhi  2262-04-07  170   48.0  32.4  25.0  15.7          5.6   \n",
      "88486        Delhi  2262-04-08  307   46.7  21.8  31.9  45.1          9.5   \n",
      "88487      Beijing  2262-04-09   65   31.9  26.0  38.1  53.0         17.8   \n",
      "88488  Mexico City  2262-04-10   59   41.8  50.1  31.2  52.0         25.0   \n",
      "\n",
      "       humidity  hospital_admissions population_density  hospital_capacity  \n",
      "0            33                    5              Rural               1337  \n",
      "1            32                    4              Urban               1545  \n",
      "2            25                   10           Suburban               1539  \n",
      "3            67                   10              Urban                552  \n",
      "4            72                    9           Suburban               1631  \n",
      "...         ...                  ...                ...                ...  \n",
      "88484        55                    5           Suburban                419  \n",
      "88485        40                   10              Urban                695  \n",
      "88486        44                   12              Urban                245  \n",
      "88487        46                   11           Suburban               1291  \n",
      "88488        65                    8              Urban                983  \n",
      "\n",
      "[88489 rows x 12 columns]\n"
     ]
    }
   ],
   "source": [
    "df=pd.read_csv('air_quality_health_dataset.csv',encoding='latin-1')\n",
    "print(df)"
   ]
  },
  {
   "cell_type": "code",
   "execution_count": 7,
   "id": "6561e5af-a1ae-4d53-899d-53f1af267e22",
   "metadata": {},
   "outputs": [
    {
     "data": {
      "text/html": [
       "<div>\n",
       "<style scoped>\n",
       "    .dataframe tbody tr th:only-of-type {\n",
       "        vertical-align: middle;\n",
       "    }\n",
       "\n",
       "    .dataframe tbody tr th {\n",
       "        vertical-align: top;\n",
       "    }\n",
       "\n",
       "    .dataframe thead th {\n",
       "        text-align: right;\n",
       "    }\n",
       "</style>\n",
       "<table border=\"1\" class=\"dataframe\">\n",
       "  <thead>\n",
       "    <tr style=\"text-align: right;\">\n",
       "      <th></th>\n",
       "      <th>city</th>\n",
       "      <th>date</th>\n",
       "      <th>aqi</th>\n",
       "      <th>pm2_5</th>\n",
       "      <th>pm10</th>\n",
       "      <th>no2</th>\n",
       "      <th>o3</th>\n",
       "      <th>temperature</th>\n",
       "      <th>humidity</th>\n",
       "      <th>hospital_admissions</th>\n",
       "      <th>population_density</th>\n",
       "      <th>hospital_capacity</th>\n",
       "    </tr>\n",
       "  </thead>\n",
       "  <tbody>\n",
       "    <tr>\n",
       "      <th>88484</th>\n",
       "      <td>Tokyo</td>\n",
       "      <td>2262-04-06</td>\n",
       "      <td>22</td>\n",
       "      <td>23.4</td>\n",
       "      <td>53.4</td>\n",
       "      <td>24.3</td>\n",
       "      <td>58.9</td>\n",
       "      <td>9.1</td>\n",
       "      <td>55</td>\n",
       "      <td>5</td>\n",
       "      <td>Suburban</td>\n",
       "      <td>419</td>\n",
       "    </tr>\n",
       "    <tr>\n",
       "      <th>88485</th>\n",
       "      <td>Delhi</td>\n",
       "      <td>2262-04-07</td>\n",
       "      <td>170</td>\n",
       "      <td>48.0</td>\n",
       "      <td>32.4</td>\n",
       "      <td>25.0</td>\n",
       "      <td>15.7</td>\n",
       "      <td>5.6</td>\n",
       "      <td>40</td>\n",
       "      <td>10</td>\n",
       "      <td>Urban</td>\n",
       "      <td>695</td>\n",
       "    </tr>\n",
       "    <tr>\n",
       "      <th>88486</th>\n",
       "      <td>Delhi</td>\n",
       "      <td>2262-04-08</td>\n",
       "      <td>307</td>\n",
       "      <td>46.7</td>\n",
       "      <td>21.8</td>\n",
       "      <td>31.9</td>\n",
       "      <td>45.1</td>\n",
       "      <td>9.5</td>\n",
       "      <td>44</td>\n",
       "      <td>12</td>\n",
       "      <td>Urban</td>\n",
       "      <td>245</td>\n",
       "    </tr>\n",
       "    <tr>\n",
       "      <th>88487</th>\n",
       "      <td>Beijing</td>\n",
       "      <td>2262-04-09</td>\n",
       "      <td>65</td>\n",
       "      <td>31.9</td>\n",
       "      <td>26.0</td>\n",
       "      <td>38.1</td>\n",
       "      <td>53.0</td>\n",
       "      <td>17.8</td>\n",
       "      <td>46</td>\n",
       "      <td>11</td>\n",
       "      <td>Suburban</td>\n",
       "      <td>1291</td>\n",
       "    </tr>\n",
       "    <tr>\n",
       "      <th>88488</th>\n",
       "      <td>Mexico City</td>\n",
       "      <td>2262-04-10</td>\n",
       "      <td>59</td>\n",
       "      <td>41.8</td>\n",
       "      <td>50.1</td>\n",
       "      <td>31.2</td>\n",
       "      <td>52.0</td>\n",
       "      <td>25.0</td>\n",
       "      <td>65</td>\n",
       "      <td>8</td>\n",
       "      <td>Urban</td>\n",
       "      <td>983</td>\n",
       "    </tr>\n",
       "  </tbody>\n",
       "</table>\n",
       "</div>"
      ],
      "text/plain": [
       "              city        date  aqi  pm2_5  pm10   no2    o3  temperature  \\\n",
       "88484        Tokyo  2262-04-06   22   23.4  53.4  24.3  58.9          9.1   \n",
       "88485        Delhi  2262-04-07  170   48.0  32.4  25.0  15.7          5.6   \n",
       "88486        Delhi  2262-04-08  307   46.7  21.8  31.9  45.1          9.5   \n",
       "88487      Beijing  2262-04-09   65   31.9  26.0  38.1  53.0         17.8   \n",
       "88488  Mexico City  2262-04-10   59   41.8  50.1  31.2  52.0         25.0   \n",
       "\n",
       "       humidity  hospital_admissions population_density  hospital_capacity  \n",
       "88484        55                    5           Suburban                419  \n",
       "88485        40                   10              Urban                695  \n",
       "88486        44                   12              Urban                245  \n",
       "88487        46                   11           Suburban               1291  \n",
       "88488        65                    8              Urban                983  "
      ]
     },
     "execution_count": 7,
     "metadata": {},
     "output_type": "execute_result"
    }
   ],
   "source": [
    " df.head()  # First 5 rows\n",
    " df.tail()  # Last 5 rows\n"
   ]
  },
  {
   "cell_type": "code",
   "execution_count": 8,
   "id": "ea0b3210-08b0-46dc-9655-0c7f62fb0264",
   "metadata": {},
   "outputs": [
    {
     "data": {
      "text/plain": [
       "Index(['city', 'date', 'aqi', 'pm2_5', 'pm10', 'no2', 'o3', 'temperature',\n",
       "       'humidity', 'hospital_admissions', 'population_density',\n",
       "       'hospital_capacity'],\n",
       "      dtype='object')"
      ]
     },
     "execution_count": 8,
     "metadata": {},
     "output_type": "execute_result"
    }
   ],
   "source": [
    "df.columns"
   ]
  },
  {
   "cell_type": "code",
   "execution_count": 10,
   "id": "3e241816-7721-402f-a69f-88e163b919ef",
   "metadata": {},
   "outputs": [
    {
     "data": {
      "text/plain": [
       "88489"
      ]
     },
     "execution_count": 10,
     "metadata": {},
     "output_type": "execute_result"
    }
   ],
   "source": [
    "len(df)  # or\n",
    "df.shape[0]"
   ]
  },
  {
   "cell_type": "code",
   "execution_count": 11,
   "id": "58f33d5a-b4e3-4ca2-8281-82f97eab998d",
   "metadata": {},
   "outputs": [
    {
     "data": {
      "text/plain": [
       "12"
      ]
     },
     "execution_count": 11,
     "metadata": {},
     "output_type": "execute_result"
    }
   ],
   "source": [
    "len(df)  # or\n",
    "df.shape[1]"
   ]
  },
  {
   "cell_type": "code",
   "execution_count": 12,
   "id": "9ef51375-e6dd-43a3-a24a-b99f8e7b3f9e",
   "metadata": {},
   "outputs": [
    {
     "name": "stdout",
     "output_type": "stream",
     "text": [
      "<class 'pandas.core.frame.DataFrame'>\n",
      "RangeIndex: 88489 entries, 0 to 88488\n",
      "Data columns (total 12 columns):\n",
      " #   Column               Non-Null Count  Dtype  \n",
      "---  ------               --------------  -----  \n",
      " 0   city                 88489 non-null  object \n",
      " 1   date                 88489 non-null  object \n",
      " 2   aqi                  88489 non-null  int64  \n",
      " 3   pm2_5                88489 non-null  float64\n",
      " 4   pm10                 88489 non-null  float64\n",
      " 5   no2                  88489 non-null  float64\n",
      " 6   o3                   88489 non-null  float64\n",
      " 7   temperature          88489 non-null  float64\n",
      " 8   humidity             88489 non-null  int64  \n",
      " 9   hospital_admissions  88489 non-null  int64  \n",
      " 10  population_density   88489 non-null  object \n",
      " 11  hospital_capacity    88489 non-null  int64  \n",
      "dtypes: float64(5), int64(4), object(3)\n",
      "memory usage: 8.1+ MB\n"
     ]
    }
   ],
   "source": [
    "df.info()"
   ]
  },
  {
   "cell_type": "code",
   "execution_count": 13,
   "id": "a9cdffc5-ab09-4d80-b1fc-1abaa7030dd8",
   "metadata": {},
   "outputs": [
    {
     "data": {
      "text/html": [
       "<div>\n",
       "<style scoped>\n",
       "    .dataframe tbody tr th:only-of-type {\n",
       "        vertical-align: middle;\n",
       "    }\n",
       "\n",
       "    .dataframe tbody tr th {\n",
       "        vertical-align: top;\n",
       "    }\n",
       "\n",
       "    .dataframe thead th {\n",
       "        text-align: right;\n",
       "    }\n",
       "</style>\n",
       "<table border=\"1\" class=\"dataframe\">\n",
       "  <thead>\n",
       "    <tr style=\"text-align: right;\">\n",
       "      <th></th>\n",
       "      <th>aqi</th>\n",
       "      <th>pm2_5</th>\n",
       "      <th>pm10</th>\n",
       "      <th>no2</th>\n",
       "      <th>o3</th>\n",
       "      <th>temperature</th>\n",
       "      <th>humidity</th>\n",
       "      <th>hospital_admissions</th>\n",
       "      <th>hospital_capacity</th>\n",
       "    </tr>\n",
       "  </thead>\n",
       "  <tbody>\n",
       "    <tr>\n",
       "      <th>count</th>\n",
       "      <td>88489.000000</td>\n",
       "      <td>88489.000000</td>\n",
       "      <td>88489.000000</td>\n",
       "      <td>88489.000000</td>\n",
       "      <td>88489.000000</td>\n",
       "      <td>88489.000000</td>\n",
       "      <td>88489.000000</td>\n",
       "      <td>88489.000000</td>\n",
       "      <td>88489.000000</td>\n",
       "    </tr>\n",
       "    <tr>\n",
       "      <th>mean</th>\n",
       "      <td>249.370182</td>\n",
       "      <td>35.144951</td>\n",
       "      <td>50.118654</td>\n",
       "      <td>30.006211</td>\n",
       "      <td>39.978895</td>\n",
       "      <td>17.522962</td>\n",
       "      <td>56.950966</td>\n",
       "      <td>8.049385</td>\n",
       "      <td>1024.463165</td>\n",
       "    </tr>\n",
       "    <tr>\n",
       "      <th>std</th>\n",
       "      <td>144.479132</td>\n",
       "      <td>14.767994</td>\n",
       "      <td>19.796392</td>\n",
       "      <td>9.963139</td>\n",
       "      <td>12.007258</td>\n",
       "      <td>12.961024</td>\n",
       "      <td>21.629675</td>\n",
       "      <td>3.715458</td>\n",
       "      <td>561.978071</td>\n",
       "    </tr>\n",
       "    <tr>\n",
       "      <th>min</th>\n",
       "      <td>0.000000</td>\n",
       "      <td>0.000000</td>\n",
       "      <td>0.000000</td>\n",
       "      <td>0.000000</td>\n",
       "      <td>0.000000</td>\n",
       "      <td>-5.000000</td>\n",
       "      <td>20.000000</td>\n",
       "      <td>0.000000</td>\n",
       "      <td>50.000000</td>\n",
       "    </tr>\n",
       "    <tr>\n",
       "      <th>25%</th>\n",
       "      <td>124.000000</td>\n",
       "      <td>24.900000</td>\n",
       "      <td>36.600000</td>\n",
       "      <td>23.300000</td>\n",
       "      <td>31.900000</td>\n",
       "      <td>6.400000</td>\n",
       "      <td>38.000000</td>\n",
       "      <td>6.000000</td>\n",
       "      <td>539.000000</td>\n",
       "    </tr>\n",
       "    <tr>\n",
       "      <th>50%</th>\n",
       "      <td>249.000000</td>\n",
       "      <td>35.100000</td>\n",
       "      <td>50.000000</td>\n",
       "      <td>30.000000</td>\n",
       "      <td>40.000000</td>\n",
       "      <td>17.500000</td>\n",
       "      <td>57.000000</td>\n",
       "      <td>8.000000</td>\n",
       "      <td>1026.000000</td>\n",
       "    </tr>\n",
       "    <tr>\n",
       "      <th>75%</th>\n",
       "      <td>374.000000</td>\n",
       "      <td>45.200000</td>\n",
       "      <td>63.500000</td>\n",
       "      <td>36.700000</td>\n",
       "      <td>48.100000</td>\n",
       "      <td>28.700000</td>\n",
       "      <td>76.000000</td>\n",
       "      <td>10.000000</td>\n",
       "      <td>1511.000000</td>\n",
       "    </tr>\n",
       "    <tr>\n",
       "      <th>max</th>\n",
       "      <td>499.000000</td>\n",
       "      <td>109.900000</td>\n",
       "      <td>143.500000</td>\n",
       "      <td>71.400000</td>\n",
       "      <td>93.500000</td>\n",
       "      <td>40.000000</td>\n",
       "      <td>94.000000</td>\n",
       "      <td>25.000000</td>\n",
       "      <td>1999.000000</td>\n",
       "    </tr>\n",
       "  </tbody>\n",
       "</table>\n",
       "</div>"
      ],
      "text/plain": [
       "                aqi         pm2_5          pm10           no2            o3  \\\n",
       "count  88489.000000  88489.000000  88489.000000  88489.000000  88489.000000   \n",
       "mean     249.370182     35.144951     50.118654     30.006211     39.978895   \n",
       "std      144.479132     14.767994     19.796392      9.963139     12.007258   \n",
       "min        0.000000      0.000000      0.000000      0.000000      0.000000   \n",
       "25%      124.000000     24.900000     36.600000     23.300000     31.900000   \n",
       "50%      249.000000     35.100000     50.000000     30.000000     40.000000   \n",
       "75%      374.000000     45.200000     63.500000     36.700000     48.100000   \n",
       "max      499.000000    109.900000    143.500000     71.400000     93.500000   \n",
       "\n",
       "        temperature      humidity  hospital_admissions  hospital_capacity  \n",
       "count  88489.000000  88489.000000         88489.000000       88489.000000  \n",
       "mean      17.522962     56.950966             8.049385        1024.463165  \n",
       "std       12.961024     21.629675             3.715458         561.978071  \n",
       "min       -5.000000     20.000000             0.000000          50.000000  \n",
       "25%        6.400000     38.000000             6.000000         539.000000  \n",
       "50%       17.500000     57.000000             8.000000        1026.000000  \n",
       "75%       28.700000     76.000000            10.000000        1511.000000  \n",
       "max       40.000000     94.000000            25.000000        1999.000000  "
      ]
     },
     "execution_count": 13,
     "metadata": {},
     "output_type": "execute_result"
    }
   ],
   "source": [
    "df.describe()"
   ]
  },
  {
   "cell_type": "code",
   "execution_count": 15,
   "id": "41c26a94-0a98-4d13-83ec-7af0637458a1",
   "metadata": {},
   "outputs": [
    {
     "data": {
      "text/plain": [
       "(88489, 12)"
      ]
     },
     "execution_count": 15,
     "metadata": {},
     "output_type": "execute_result"
    }
   ],
   "source": [
    "df.shape"
   ]
  },
  {
   "cell_type": "code",
   "execution_count": 19,
   "id": "1cab4cf1-bcf2-4e91-941c-5040668bfef8",
   "metadata": {},
   "outputs": [
    {
     "data": {
      "text/plain": [
       "city                   0\n",
       "date                   0\n",
       "aqi                    0\n",
       "pm2_5                  0\n",
       "pm10                   0\n",
       "no2                    0\n",
       "o3                     0\n",
       "temperature            0\n",
       "humidity               0\n",
       "hospital_admissions    0\n",
       "population_density     0\n",
       "hospital_capacity      0\n",
       "dtype: int64"
      ]
     },
     "execution_count": 19,
     "metadata": {},
     "output_type": "execute_result"
    }
   ],
   "source": [
    "df.isnull().sum()"
   ]
  },
  {
   "cell_type": "code",
   "execution_count": 21,
   "id": "63028672-86b8-4e5f-b7ec-591363cea1cb",
   "metadata": {},
   "outputs": [
    {
     "data": {
      "text/plain": [
       "[]"
      ]
     },
     "execution_count": 21,
     "metadata": {},
     "output_type": "execute_result"
    }
   ],
   "source": [
    "[features for features in df.columns if df[features].isnull().sum()>0]"
   ]
  },
  {
   "cell_type": "code",
   "execution_count": 22,
   "id": "002ff962-248f-4084-a38d-b35083608a02",
   "metadata": {},
   "outputs": [
    {
     "data": {
      "text/plain": [
       "<Axes: >"
      ]
     },
     "execution_count": 22,
     "metadata": {},
     "output_type": "execute_result"
    },
    {
     "data": {
      "image/png": "[encoded data removed]",
      "text/plain": [
       "<Figure size 640x480 with 1 Axes>"
      ]
     },
     "metadata": {},
     "output_type": "display_data"
    }
   ],
   "source": [
    "sns.heatmap(df.isnull(),yticklabels=False,cbar=False,cmap='viridis')"
   ]
  },
  {
   "cell_type": "code",
   "execution_count": 23,
   "id": "f87220cb-4c97-4678-9bb0-aed7e113fb60",
   "metadata": {},
   "outputs": [
    {
     "name": "stdout",
     "output_type": "stream",
     "text": [
      "              city        date  aqi  pm2_5  pm10   no2    o3  temperature  \\\n",
      "0      Los Angeles  2020-01-01   65   34.0  52.7   2.2  38.5         33.5   \n",
      "1          Beijing  2020-01-02  137   33.7  31.5  36.7  27.5         -1.6   \n",
      "2           London  2020-01-03  266   43.0  59.6  30.4  57.3         36.4   \n",
      "3      Mexico City  2020-01-04  293   33.7  37.9  12.3  42.7         -1.0   \n",
      "4            Delhi  2020-01-05  493   50.3  34.8  31.2  35.6         33.5   \n",
      "...            ...         ...  ...    ...   ...   ...   ...          ...   \n",
      "88484        Tokyo  2262-04-06   22   23.4  53.4  24.3  58.9          9.1   \n",
      "88485        Delhi  2262-04-07  170   48.0  32.4  25.0  15.7          5.6   \n",
      "88486        Delhi  2262-04-08  307   46.7  21.8  31.9  45.1          9.5   \n",
      "88487      Beijing  2262-04-09   65   31.9  26.0  38.1  53.0         17.8   \n",
      "88488  Mexico City  2262-04-10   59   41.8  50.1  31.2  52.0         25.0   \n",
      "\n",
      "       humidity  hospital_admissions population_density  hospital_capacity  \n",
      "0            33                    5              Rural               1337  \n",
      "1            32                    4              Urban               1545  \n",
      "2            25                   10           Suburban               1539  \n",
      "3            67                   10              Urban                552  \n",
      "4            72                    9           Suburban               1631  \n",
      "...         ...                  ...                ...                ...  \n",
      "88484        55                    5           Suburban                419  \n",
      "88485        40                   10              Urban                695  \n",
      "88486        44                   12              Urban                245  \n",
      "88487        46                   11           Suburban               1291  \n",
      "88488        65                    8              Urban                983  \n",
      "\n",
      "[88489 rows x 12 columns]\n"
     ]
    }
   ],
   "source": [
    "df=pd.read_csv('air_quality_health_dataset.csv',encoding='latin-1')\n",
    "print(df)"
   ]
  },
  {
   "cell_type": "code",
   "execution_count": 24,
   "id": "8b2a30d4-676a-4225-8e48-82493d672f18",
   "metadata": {},
   "outputs": [
    {
     "data": {
      "text/plain": [
       "population_density\n",
       "Urban       53192\n",
       "Suburban    26465\n",
       "Rural        8832\n",
       "Name: count, dtype: int64"
      ]
     },
     "execution_count": 24,
     "metadata": {},
     "output_type": "execute_result"
    }
   ],
   "source": [
    "df.population_density.value_counts()"
   ]
  },
  {
   "cell_type": "code",
   "execution_count": 26,
   "id": "29b115ef-9c9b-4f3f-8907-d697969b7cdc",
   "metadata": {},
   "outputs": [
    {
     "data": {
      "text/plain": [
       "Index(['Urban', 'Suburban', 'Rural'], dtype='object', name='population_density')"
      ]
     },
     "execution_count": 26,
     "metadata": {},
     "output_type": "execute_result"
    }
   ],
   "source": [
    "df.population_density.value_counts().index"
   ]
  },
  {
   "cell_type": "code",
   "execution_count": 27,
   "id": "a4594ca0-d048-465e-895e-c1c0c7ae7641",
   "metadata": {},
   "outputs": [],
   "source": [
    "pop_names=df.population_density.value_counts().index"
   ]
  },
  {
   "cell_type": "code",
   "execution_count": 28,
   "id": "da93dfe9-dfa2-4e88-a904-2dea89c94d83",
   "metadata": {},
   "outputs": [
    {
     "data": {
      "text/plain": [
       "array([53192, 26465,  8832])"
      ]
     },
     "execution_count": 28,
     "metadata": {},
     "output_type": "execute_result"
    }
   ],
   "source": [
    "df.population_density.value_counts().values"
   ]
  },
  {
   "cell_type": "code",
   "execution_count": 29,
   "id": "1d26c835-7976-45ea-afc3-196b3df37c29",
   "metadata": {},
   "outputs": [],
   "source": [
    "pop_val=df.population_density.value_counts().values"
   ]
  },
  {
   "cell_type": "code",
   "execution_count": 33,
   "id": "45d0f77c-de67-4940-adf3-cae57ab7a852",
   "metadata": {},
   "outputs": [
    {
     "data": {
      "text/plain": [
       "([<matplotlib.patches.Wedge at 0x18a4c222e40>,\n",
       "  <matplotlib.patches.Wedge at 0x18a4c4aee90>,\n",
       "  <matplotlib.patches.Wedge at 0x18a4c4af250>],\n",
       " [Text(-0.3435788336402256, 1.044965829620482, 'Urban'),\n",
       "  Text(0.0045108799909599545, -1.0999907508528002, 'Suburban'),\n",
       "  Text(1.0463660614044532, -0.33929053264264897, 'Rural')])"
      ]
     },
     "execution_count": 33,
     "metadata": {},
     "output_type": "execute_result"
    },
    {
     "data": {
      "image/png": "[encoded data removed]",
      "text/plain": [
       "<Figure size 640x480 with 1 Axes>"
      ]
     },
     "metadata": {},
     "output_type": "display_data"
    }
   ],
   "source": [
    "plt.pie(pop_val,labels=pop_names)"
   ]
  },
  {
   "cell_type": "code",
   "execution_count": 34,
   "id": "00f5cc19-c860-4741-b5b2-f16e61c623f3",
   "metadata": {},
   "outputs": [
    {
     "data": {
      "text/plain": [
       "([<matplotlib.patches.Wedge at 0x18a4c4db110>,\n",
       "  <matplotlib.patches.Wedge at 0x18a4c4db390>,\n",
       "  <matplotlib.patches.Wedge at 0x18a4c4db610>],\n",
       " [Text(-0.3435788336402256, 1.044965829620482, 'Urban'),\n",
       "  Text(0.0045108799909599545, -1.0999907508528002, 'Suburban'),\n",
       "  Text(1.0463660614044532, -0.33929053264264897, 'Rural')])"
      ]
     },
     "execution_count": 34,
     "metadata": {},
     "output_type": "execute_result"
    },
    {
     "data": {
      "image/png": "[encoded data removed]",
      "text/plain": [
       "<Figure size 640x480 with 1 Axes>"
      ]
     },
     "metadata": {},
     "output_type": "display_data"
    }
   ],
   "source": [
    "plt.pie(pop_val[:3],labels=pop_names[:3])"
   ]
  },
  {
   "cell_type": "code",
   "execution_count": 35,
   "id": "6c00f0f4-c3db-425b-9fcb-0ca064296c6e",
   "metadata": {},
   "outputs": [
    {
     "data": {
      "text/plain": [
       "([<matplotlib.patches.Wedge at 0x18a4c50ac10>,\n",
       "  <matplotlib.patches.Wedge at 0x18a4c50ae90>],\n",
       " [Text(-0.5532780496219718, 0.9507278263554229, 'Urban'),\n",
       "  Text(0.5532781327372392, -0.9507277779863139, 'Suburban')])"
      ]
     },
     "execution_count": 35,
     "metadata": {},
     "output_type": "execute_result"
    },
    {
     "data": {
      "image/png": "[encoded data removed]",
      "text/plain": [
       "<Figure size 640x480 with 1 Axes>"
      ]
     },
     "metadata": {},
     "output_type": "display_data"
    }
   ],
   "source": [
    "plt.pie(pop_val[:2],labels=pop_names[:2])"
   ]
  },
  {
   "cell_type": "code",
   "execution_count": 36,
   "id": "cad4042b-b1c6-476d-9279-fc85f9bcd304",
   "metadata": {},
   "outputs": [
    {
     "data": {
      "text/plain": [
       "([<matplotlib.patches.Wedge at 0x18a4c4ca0d0>,\n",
       "  <matplotlib.patches.Wedge at 0x18a4c4ca490>,\n",
       "  <matplotlib.patches.Wedge at 0x18a4c4ca850>],\n",
       " [Text(-0.3435788336402256, 1.044965829620482, 'Urban'),\n",
       "  Text(0.0045108799909599545, -1.0999907508528002, 'Suburban'),\n",
       "  Text(1.0463660614044532, -0.33929053264264897, 'Rural')],\n",
       " [Text(-0.18740663653103212, 0.569981361611172, '60.11%'),\n",
       "  Text(0.0024604799950690656, -0.5999949550106183, '29.91%'),\n",
       "  Text(0.570745124402429, -0.18506756325962667, '9.98%')])"
      ]
     },
     "execution_count": 36,
     "metadata": {},
     "output_type": "execute_result"
    },
    {
     "data": {
      "image/png": "[encoded data removed]",
      "text/plain": [
       "<Figure size 640x480 with 1 Axes>"
      ]
     },
     "metadata": {},
     "output_type": "display_data"
    }
   ],
   "source": [
    "plt.pie(pop_val,labels=pop_names,autopct='%1.2f%%')"
   ]
  },
  {
   "cell_type": "code",
   "execution_count": 37,
   "id": "7f115dd1-c0a7-4487-91fd-9db6235284b0",
   "metadata": {},
   "outputs": [
    {
     "data": {
      "text/plain": [
       "Index(['city', 'date', 'aqi', 'pm2_5', 'pm10', 'no2', 'o3', 'temperature',\n",
       "       'humidity', 'hospital_admissions', 'population_density',\n",
       "       'hospital_capacity'],\n",
       "      dtype='object')"
      ]
     },
     "execution_count": 37,
     "metadata": {},
     "output_type": "execute_result"
    }
   ],
   "source": [
    "df.columns"
   ]
  },
  {
   "cell_type": "code",
   "execution_count": 40,
   "id": "e8835c04-1c4f-4827-a6f2-d30404c756ec",
   "metadata": {},
   "outputs": [
    {
     "data": {
      "text/plain": [
       "city     temperature  humidity\n",
       "Beijing  -5.0         22          1\n",
       "                      37          1\n",
       "                      38          1\n",
       "                      40          1\n",
       "                      41          1\n",
       "                                 ..\n",
       "Tokyo     40.0        57          1\n",
       "                      61          1\n",
       "                      67          2\n",
       "                      76          1\n",
       "                      94          2\n",
       "Length: 69696, dtype: int64"
      ]
     },
     "execution_count": 40,
     "metadata": {},
     "output_type": "execute_result"
    }
   ],
   "source": [
    "df.groupby(['city','temperature','humidity']).size()"
   ]
  },
  {
   "cell_type": "code",
   "execution_count": 41,
   "id": "68f79aee-87ca-45eb-8218-e6e97930d9b8",
   "metadata": {},
   "outputs": [
    {
     "data": {
      "text/html": [
       "<div>\n",
       "<style scoped>\n",
       "    .dataframe tbody tr th:only-of-type {\n",
       "        vertical-align: middle;\n",
       "    }\n",
       "\n",
       "    .dataframe tbody tr th {\n",
       "        vertical-align: top;\n",
       "    }\n",
       "\n",
       "    .dataframe thead th {\n",
       "        text-align: right;\n",
       "    }\n",
       "</style>\n",
       "<table border=\"1\" class=\"dataframe\">\n",
       "  <thead>\n",
       "    <tr style=\"text-align: right;\">\n",
       "      <th></th>\n",
       "      <th>city</th>\n",
       "      <th>temperature</th>\n",
       "      <th>humidity</th>\n",
       "      <th>0</th>\n",
       "    </tr>\n",
       "  </thead>\n",
       "  <tbody>\n",
       "    <tr>\n",
       "      <th>0</th>\n",
       "      <td>Beijing</td>\n",
       "      <td>-5.0</td>\n",
       "      <td>22</td>\n",
       "      <td>1</td>\n",
       "    </tr>\n",
       "    <tr>\n",
       "      <th>1</th>\n",
       "      <td>Beijing</td>\n",
       "      <td>-5.0</td>\n",
       "      <td>37</td>\n",
       "      <td>1</td>\n",
       "    </tr>\n",
       "    <tr>\n",
       "      <th>2</th>\n",
       "      <td>Beijing</td>\n",
       "      <td>-5.0</td>\n",
       "      <td>38</td>\n",
       "      <td>1</td>\n",
       "    </tr>\n",
       "    <tr>\n",
       "      <th>3</th>\n",
       "      <td>Beijing</td>\n",
       "      <td>-5.0</td>\n",
       "      <td>40</td>\n",
       "      <td>1</td>\n",
       "    </tr>\n",
       "    <tr>\n",
       "      <th>4</th>\n",
       "      <td>Beijing</td>\n",
       "      <td>-5.0</td>\n",
       "      <td>41</td>\n",
       "      <td>1</td>\n",
       "    </tr>\n",
       "    <tr>\n",
       "      <th>...</th>\n",
       "      <td>...</td>\n",
       "      <td>...</td>\n",
       "      <td>...</td>\n",
       "      <td>...</td>\n",
       "    </tr>\n",
       "    <tr>\n",
       "      <th>69691</th>\n",
       "      <td>Tokyo</td>\n",
       "      <td>40.0</td>\n",
       "      <td>57</td>\n",
       "      <td>1</td>\n",
       "    </tr>\n",
       "    <tr>\n",
       "      <th>69692</th>\n",
       "      <td>Tokyo</td>\n",
       "      <td>40.0</td>\n",
       "      <td>61</td>\n",
       "      <td>1</td>\n",
       "    </tr>\n",
       "    <tr>\n",
       "      <th>69693</th>\n",
       "      <td>Tokyo</td>\n",
       "      <td>40.0</td>\n",
       "      <td>67</td>\n",
       "      <td>2</td>\n",
       "    </tr>\n",
       "    <tr>\n",
       "      <th>69694</th>\n",
       "      <td>Tokyo</td>\n",
       "      <td>40.0</td>\n",
       "      <td>76</td>\n",
       "      <td>1</td>\n",
       "    </tr>\n",
       "    <tr>\n",
       "      <th>69695</th>\n",
       "      <td>Tokyo</td>\n",
       "      <td>40.0</td>\n",
       "      <td>94</td>\n",
       "      <td>2</td>\n",
       "    </tr>\n",
       "  </tbody>\n",
       "</table>\n",
       "<p>69696 rows × 4 columns</p>\n",
       "</div>"
      ],
      "text/plain": [
       "          city  temperature  humidity  0\n",
       "0      Beijing         -5.0        22  1\n",
       "1      Beijing         -5.0        37  1\n",
       "2      Beijing         -5.0        38  1\n",
       "3      Beijing         -5.0        40  1\n",
       "4      Beijing         -5.0        41  1\n",
       "...        ...          ...       ... ..\n",
       "69691    Tokyo         40.0        57  1\n",
       "69692    Tokyo         40.0        61  1\n",
       "69693    Tokyo         40.0        67  2\n",
       "69694    Tokyo         40.0        76  1\n",
       "69695    Tokyo         40.0        94  2\n",
       "\n",
       "[69696 rows x 4 columns]"
      ]
     },
     "execution_count": 41,
     "metadata": {},
     "output_type": "execute_result"
    }
   ],
   "source": [
    "df.groupby(['city','temperature','humidity']).size().reset_index()"
   ]
  },
  {
   "cell_type": "code",
   "execution_count": 43,
   "id": "7401081e-a989-47f2-983a-855c11737d79",
   "metadata": {},
   "outputs": [
    {
     "data": {
      "text/html": [
       "<div>\n",
       "<style scoped>\n",
       "    .dataframe tbody tr th:only-of-type {\n",
       "        vertical-align: middle;\n",
       "    }\n",
       "\n",
       "    .dataframe tbody tr th {\n",
       "        vertical-align: top;\n",
       "    }\n",
       "\n",
       "    .dataframe thead th {\n",
       "        text-align: right;\n",
       "    }\n",
       "</style>\n",
       "<table border=\"1\" class=\"dataframe\">\n",
       "  <thead>\n",
       "    <tr style=\"text-align: right;\">\n",
       "      <th></th>\n",
       "      <th>city</th>\n",
       "      <th>temperature</th>\n",
       "      <th>humidity</th>\n",
       "      <th>count</th>\n",
       "    </tr>\n",
       "  </thead>\n",
       "  <tbody>\n",
       "    <tr>\n",
       "      <th>0</th>\n",
       "      <td>Beijing</td>\n",
       "      <td>-5.0</td>\n",
       "      <td>22</td>\n",
       "      <td>1</td>\n",
       "    </tr>\n",
       "    <tr>\n",
       "      <th>1</th>\n",
       "      <td>Beijing</td>\n",
       "      <td>-5.0</td>\n",
       "      <td>37</td>\n",
       "      <td>1</td>\n",
       "    </tr>\n",
       "    <tr>\n",
       "      <th>2</th>\n",
       "      <td>Beijing</td>\n",
       "      <td>-5.0</td>\n",
       "      <td>38</td>\n",
       "      <td>1</td>\n",
       "    </tr>\n",
       "    <tr>\n",
       "      <th>3</th>\n",
       "      <td>Beijing</td>\n",
       "      <td>-5.0</td>\n",
       "      <td>40</td>\n",
       "      <td>1</td>\n",
       "    </tr>\n",
       "    <tr>\n",
       "      <th>4</th>\n",
       "      <td>Beijing</td>\n",
       "      <td>-5.0</td>\n",
       "      <td>41</td>\n",
       "      <td>1</td>\n",
       "    </tr>\n",
       "    <tr>\n",
       "      <th>...</th>\n",
       "      <td>...</td>\n",
       "      <td>...</td>\n",
       "      <td>...</td>\n",
       "      <td>...</td>\n",
       "    </tr>\n",
       "    <tr>\n",
       "      <th>69691</th>\n",
       "      <td>Tokyo</td>\n",
       "      <td>40.0</td>\n",
       "      <td>57</td>\n",
       "      <td>1</td>\n",
       "    </tr>\n",
       "    <tr>\n",
       "      <th>69692</th>\n",
       "      <td>Tokyo</td>\n",
       "      <td>40.0</td>\n",
       "      <td>61</td>\n",
       "      <td>1</td>\n",
       "    </tr>\n",
       "    <tr>\n",
       "      <th>69693</th>\n",
       "      <td>Tokyo</td>\n",
       "      <td>40.0</td>\n",
       "      <td>67</td>\n",
       "      <td>2</td>\n",
       "    </tr>\n",
       "    <tr>\n",
       "      <th>69694</th>\n",
       "      <td>Tokyo</td>\n",
       "      <td>40.0</td>\n",
       "      <td>76</td>\n",
       "      <td>1</td>\n",
       "    </tr>\n",
       "    <tr>\n",
       "      <th>69695</th>\n",
       "      <td>Tokyo</td>\n",
       "      <td>40.0</td>\n",
       "      <td>94</td>\n",
       "      <td>2</td>\n",
       "    </tr>\n",
       "  </tbody>\n",
       "</table>\n",
       "<p>69696 rows × 4 columns</p>\n",
       "</div>"
      ],
      "text/plain": [
       "          city  temperature  humidity  count\n",
       "0      Beijing         -5.0        22      1\n",
       "1      Beijing         -5.0        37      1\n",
       "2      Beijing         -5.0        38      1\n",
       "3      Beijing         -5.0        40      1\n",
       "4      Beijing         -5.0        41      1\n",
       "...        ...          ...       ...    ...\n",
       "69691    Tokyo         40.0        57      1\n",
       "69692    Tokyo         40.0        61      1\n",
       "69693    Tokyo         40.0        67      2\n",
       "69694    Tokyo         40.0        76      1\n",
       "69695    Tokyo         40.0        94      2\n",
       "\n",
       "[69696 rows x 4 columns]"
      ]
     },
     "execution_count": 43,
     "metadata": {},
     "output_type": "execute_result"
    }
   ],
   "source": [
    "df.groupby(['city','temperature','humidity']).size().reset_index().rename(columns={0:'count'})                         "
   ]
  },
  {
   "cell_type": "code",
   "execution_count": 45,
   "id": "a13c2019-0b59-4938-bd36-033a8012e77a",
   "metadata": {},
   "outputs": [],
   "source": [
    "reports=df.groupby(['city','temperature','humidity']).size().reset_index().rename(columns={0:'count'})                        "
   ]
  },
  {
   "cell_type": "code",
   "execution_count": 46,
   "id": "9bcba082-bef4-464b-bc41-ec7caf6379a0",
   "metadata": {},
   "outputs": [
    {
     "data": {
      "text/html": [
       "<div>\n",
       "<style scoped>\n",
       "    .dataframe tbody tr th:only-of-type {\n",
       "        vertical-align: middle;\n",
       "    }\n",
       "\n",
       "    .dataframe tbody tr th {\n",
       "        vertical-align: top;\n",
       "    }\n",
       "\n",
       "    .dataframe thead th {\n",
       "        text-align: right;\n",
       "    }\n",
       "</style>\n",
       "<table border=\"1\" class=\"dataframe\">\n",
       "  <thead>\n",
       "    <tr style=\"text-align: right;\">\n",
       "      <th></th>\n",
       "      <th>city</th>\n",
       "      <th>temperature</th>\n",
       "      <th>humidity</th>\n",
       "      <th>count</th>\n",
       "    </tr>\n",
       "  </thead>\n",
       "  <tbody>\n",
       "    <tr>\n",
       "      <th>0</th>\n",
       "      <td>Beijing</td>\n",
       "      <td>-5.0</td>\n",
       "      <td>22</td>\n",
       "      <td>1</td>\n",
       "    </tr>\n",
       "    <tr>\n",
       "      <th>1</th>\n",
       "      <td>Beijing</td>\n",
       "      <td>-5.0</td>\n",
       "      <td>37</td>\n",
       "      <td>1</td>\n",
       "    </tr>\n",
       "    <tr>\n",
       "      <th>2</th>\n",
       "      <td>Beijing</td>\n",
       "      <td>-5.0</td>\n",
       "      <td>38</td>\n",
       "      <td>1</td>\n",
       "    </tr>\n",
       "    <tr>\n",
       "      <th>3</th>\n",
       "      <td>Beijing</td>\n",
       "      <td>-5.0</td>\n",
       "      <td>40</td>\n",
       "      <td>1</td>\n",
       "    </tr>\n",
       "    <tr>\n",
       "      <th>4</th>\n",
       "      <td>Beijing</td>\n",
       "      <td>-5.0</td>\n",
       "      <td>41</td>\n",
       "      <td>1</td>\n",
       "    </tr>\n",
       "    <tr>\n",
       "      <th>...</th>\n",
       "      <td>...</td>\n",
       "      <td>...</td>\n",
       "      <td>...</td>\n",
       "      <td>...</td>\n",
       "    </tr>\n",
       "    <tr>\n",
       "      <th>69691</th>\n",
       "      <td>Tokyo</td>\n",
       "      <td>40.0</td>\n",
       "      <td>57</td>\n",
       "      <td>1</td>\n",
       "    </tr>\n",
       "    <tr>\n",
       "      <th>69692</th>\n",
       "      <td>Tokyo</td>\n",
       "      <td>40.0</td>\n",
       "      <td>61</td>\n",
       "      <td>1</td>\n",
       "    </tr>\n",
       "    <tr>\n",
       "      <th>69693</th>\n",
       "      <td>Tokyo</td>\n",
       "      <td>40.0</td>\n",
       "      <td>67</td>\n",
       "      <td>2</td>\n",
       "    </tr>\n",
       "    <tr>\n",
       "      <th>69694</th>\n",
       "      <td>Tokyo</td>\n",
       "      <td>40.0</td>\n",
       "      <td>76</td>\n",
       "      <td>1</td>\n",
       "    </tr>\n",
       "    <tr>\n",
       "      <th>69695</th>\n",
       "      <td>Tokyo</td>\n",
       "      <td>40.0</td>\n",
       "      <td>94</td>\n",
       "      <td>2</td>\n",
       "    </tr>\n",
       "  </tbody>\n",
       "</table>\n",
       "<p>69696 rows × 4 columns</p>\n",
       "</div>"
      ],
      "text/plain": [
       "          city  temperature  humidity  count\n",
       "0      Beijing         -5.0        22      1\n",
       "1      Beijing         -5.0        37      1\n",
       "2      Beijing         -5.0        38      1\n",
       "3      Beijing         -5.0        40      1\n",
       "4      Beijing         -5.0        41      1\n",
       "...        ...          ...       ...    ...\n",
       "69691    Tokyo         40.0        57      1\n",
       "69692    Tokyo         40.0        61      1\n",
       "69693    Tokyo         40.0        67      2\n",
       "69694    Tokyo         40.0        76      1\n",
       "69695    Tokyo         40.0        94      2\n",
       "\n",
       "[69696 rows x 4 columns]"
      ]
     },
     "execution_count": 46,
     "metadata": {},
     "output_type": "execute_result"
    }
   ],
   "source": [
    "reports"
   ]
  },
  {
   "cell_type": "code",
   "execution_count": 47,
   "id": "174d9b76-d0ac-4f4b-b56d-dfc9b137306a",
   "metadata": {},
   "outputs": [
    {
     "data": {
      "text/html": [
       "<div>\n",
       "<style scoped>\n",
       "    .dataframe tbody tr th:only-of-type {\n",
       "        vertical-align: middle;\n",
       "    }\n",
       "\n",
       "    .dataframe tbody tr th {\n",
       "        vertical-align: top;\n",
       "    }\n",
       "\n",
       "    .dataframe thead th {\n",
       "        text-align: right;\n",
       "    }\n",
       "</style>\n",
       "<table border=\"1\" class=\"dataframe\">\n",
       "  <thead>\n",
       "    <tr style=\"text-align: right;\">\n",
       "      <th></th>\n",
       "      <th>city</th>\n",
       "      <th>temperature</th>\n",
       "      <th>humidity</th>\n",
       "      <th>count</th>\n",
       "    </tr>\n",
       "  </thead>\n",
       "  <tbody>\n",
       "    <tr>\n",
       "      <th>0</th>\n",
       "      <td>Beijing</td>\n",
       "      <td>-5.0</td>\n",
       "      <td>22</td>\n",
       "      <td>1</td>\n",
       "    </tr>\n",
       "    <tr>\n",
       "      <th>1</th>\n",
       "      <td>Beijing</td>\n",
       "      <td>-5.0</td>\n",
       "      <td>37</td>\n",
       "      <td>1</td>\n",
       "    </tr>\n",
       "    <tr>\n",
       "      <th>2</th>\n",
       "      <td>Beijing</td>\n",
       "      <td>-5.0</td>\n",
       "      <td>38</td>\n",
       "      <td>1</td>\n",
       "    </tr>\n",
       "    <tr>\n",
       "      <th>3</th>\n",
       "      <td>Beijing</td>\n",
       "      <td>-5.0</td>\n",
       "      <td>40</td>\n",
       "      <td>1</td>\n",
       "    </tr>\n",
       "    <tr>\n",
       "      <th>4</th>\n",
       "      <td>Beijing</td>\n",
       "      <td>-5.0</td>\n",
       "      <td>41</td>\n",
       "      <td>1</td>\n",
       "    </tr>\n",
       "  </tbody>\n",
       "</table>\n",
       "</div>"
      ],
      "text/plain": [
       "      city  temperature  humidity  count\n",
       "0  Beijing         -5.0        22      1\n",
       "1  Beijing         -5.0        37      1\n",
       "2  Beijing         -5.0        38      1\n",
       "3  Beijing         -5.0        40      1\n",
       "4  Beijing         -5.0        41      1"
      ]
     },
     "execution_count": 47,
     "metadata": {},
     "output_type": "execute_result"
    }
   ],
   "source": [
    "reports.head()"
   ]
  },
  {
   "cell_type": "code",
   "execution_count": 48,
   "id": "a0c43c38-0c90-49aa-b825-353cb283a226",
   "metadata": {},
   "outputs": [
    {
     "data": {
      "text/html": [
       "<div>\n",
       "<style scoped>\n",
       "    .dataframe tbody tr th:only-of-type {\n",
       "        vertical-align: middle;\n",
       "    }\n",
       "\n",
       "    .dataframe tbody tr th {\n",
       "        vertical-align: top;\n",
       "    }\n",
       "\n",
       "    .dataframe thead th {\n",
       "        text-align: right;\n",
       "    }\n",
       "</style>\n",
       "<table border=\"1\" class=\"dataframe\">\n",
       "  <thead>\n",
       "    <tr style=\"text-align: right;\">\n",
       "      <th></th>\n",
       "      <th>city</th>\n",
       "      <th>temperature</th>\n",
       "      <th>humidity</th>\n",
       "      <th>count</th>\n",
       "    </tr>\n",
       "  </thead>\n",
       "  <tbody>\n",
       "    <tr>\n",
       "      <th>69691</th>\n",
       "      <td>Tokyo</td>\n",
       "      <td>40.0</td>\n",
       "      <td>57</td>\n",
       "      <td>1</td>\n",
       "    </tr>\n",
       "    <tr>\n",
       "      <th>69692</th>\n",
       "      <td>Tokyo</td>\n",
       "      <td>40.0</td>\n",
       "      <td>61</td>\n",
       "      <td>1</td>\n",
       "    </tr>\n",
       "    <tr>\n",
       "      <th>69693</th>\n",
       "      <td>Tokyo</td>\n",
       "      <td>40.0</td>\n",
       "      <td>67</td>\n",
       "      <td>2</td>\n",
       "    </tr>\n",
       "    <tr>\n",
       "      <th>69694</th>\n",
       "      <td>Tokyo</td>\n",
       "      <td>40.0</td>\n",
       "      <td>76</td>\n",
       "      <td>1</td>\n",
       "    </tr>\n",
       "    <tr>\n",
       "      <th>69695</th>\n",
       "      <td>Tokyo</td>\n",
       "      <td>40.0</td>\n",
       "      <td>94</td>\n",
       "      <td>2</td>\n",
       "    </tr>\n",
       "  </tbody>\n",
       "</table>\n",
       "</div>"
      ],
      "text/plain": [
       "        city  temperature  humidity  count\n",
       "69691  Tokyo         40.0        57      1\n",
       "69692  Tokyo         40.0        61      1\n",
       "69693  Tokyo         40.0        67      2\n",
       "69694  Tokyo         40.0        76      1\n",
       "69695  Tokyo         40.0        94      2"
      ]
     },
     "execution_count": 48,
     "metadata": {},
     "output_type": "execute_result"
    }
   ],
   "source": [
    "reports.tail()"
   ]
  },
  {
   "cell_type": "code",
   "execution_count": 49,
   "id": "75cf7263-8b62-46fa-8f17-cc5fc37d5bde",
   "metadata": {},
   "outputs": [
    {
     "data": {
      "text/plain": [
       "<Axes: xlabel='city', ylabel='count'>"
      ]
     },
     "execution_count": 49,
     "metadata": {},
     "output_type": "execute_result"
    },
    {
     "data": {
      "image/png": "[encoded data removed]",
      "text/plain": [
       "<Figure size 640x480 with 1 Axes>"
      ]
     },
     "metadata": {},
     "output_type": "display_data"
    }
   ],
   "source": [
    "sns.barplot(x=\"city\",y=\"count\",data=reports,errorbar=None)"
   ]
  },
  {
   "cell_type": "code",
   "execution_count": 50,
   "id": "1d1dd781-4ccd-4bdd-a70f-b6751de921a4",
   "metadata": {},
   "outputs": [
    {
     "data": {
      "text/plain": [
       "<Axes: xlabel='city', ylabel='count'>"
      ]
     },
     "execution_count": 50,
     "metadata": {},
     "output_type": "execute_result"
    },
    {
     "data": {
      "image/png": "[encoded data removed]",
      "text/plain": [
       "<Figure size 1200x600 with 1 Axes>"
      ]
     },
     "metadata": {},
     "output_type": "display_data"
    }
   ],
   "source": [
    "import matplotlib\n",
    "matplotlib.rcParams['figure.figsize']=(12,6)\n",
    "sns.barplot(x=\"city\",y=\"count\",data=reports,errorbar=None)"
   ]
  },
  {
   "cell_type": "code",
   "execution_count": 51,
   "id": "490119dc-1fa7-4c8a-bcaf-8c91bdf0f488",
   "metadata": {},
   "outputs": [
    {
     "data": {
      "text/plain": [
       "city\n",
       "Delhi          26465\n",
       "Beijing        22064\n",
       "Mexico City    13377\n",
       "Los Angeles     9003\n",
       "London          6985\n",
       "Tokyo           6147\n",
       "Cairo           2700\n",
       "SÃ£o Paulo      1748\n",
       "Name: count, dtype: int64"
      ]
     },
     "execution_count": 51,
     "metadata": {},
     "output_type": "execute_result"
    }
   ],
   "source": [
    "df.city.value_counts()"
   ]
  },
  {
   "cell_type": "code",
   "execution_count": 52,
   "id": "eb35cc44-a02d-4458-9b79-198d1ca07e41",
   "metadata": {},
   "outputs": [
    {
     "data": {
      "text/plain": [
       "Index(['Delhi', 'Beijing', 'Mexico City', 'Los Angeles', 'London', 'Tokyo',\n",
       "       'Cairo', 'SÃ£o Paulo'],\n",
       "      dtype='object', name='city')"
      ]
     },
     "execution_count": 52,
     "metadata": {},
     "output_type": "execute_result"
    }
   ],
   "source": [
    "df.city.value_counts().index"
   ]
  },
  {
   "cell_type": "code",
   "execution_count": 53,
   "id": "657bf900-4a74-412d-97f0-dac25851ce8d",
   "metadata": {},
   "outputs": [],
   "source": [
    "citynames=df.city.value_counts().index"
   ]
  },
  {
   "cell_type": "code",
   "execution_count": 54,
   "id": "7d17ab88-22ee-4fef-8121-2f38c0be8845",
   "metadata": {},
   "outputs": [
    {
     "data": {
      "text/plain": [
       "array([26465, 22064, 13377,  9003,  6985,  6147,  2700,  1748])"
      ]
     },
     "execution_count": 54,
     "metadata": {},
     "output_type": "execute_result"
    }
   ],
   "source": [
    "df.city.value_counts().values"
   ]
  },
  {
   "cell_type": "code",
   "execution_count": 55,
   "id": "071d0b9d-83eb-42b7-a240-adc0dc099659",
   "metadata": {},
   "outputs": [],
   "source": [
    "city_val=df.city.value_counts().values"
   ]
  },
  {
   "cell_type": "code",
   "execution_count": 57,
   "id": "f5939133-0ceb-461d-bab0-9030c03c69c5",
   "metadata": {},
   "outputs": [
    {
     "data": {
      "text/plain": [
       "([<matplotlib.patches.Wedge at 0x18a4c9ba350>,\n",
       "  <matplotlib.patches.Wedge at 0x18a4c9ba5d0>,\n",
       "  <matplotlib.patches.Wedge at 0x18a4c9ba850>,\n",
       "  <matplotlib.patches.Wedge at 0x18a4c9baad0>,\n",
       "  <matplotlib.patches.Wedge at 0x18a4c9bad50>,\n",
       "  <matplotlib.patches.Wedge at 0x18a4c9bafd0>,\n",
       "  <matplotlib.patches.Wedge at 0x18a4c9bb250>,\n",
       "  <matplotlib.patches.Wedge at 0x18a4c9bb4d0>],\n",
       " [Text(0.6491422763045459, 0.888039585330605, 'Delhi'),\n",
       "  Text(-0.9761471206336954, 0.507086579272757, 'Beijing'),\n",
       "  Text(-0.7826691035966038, -0.7729353622880045, 'Mexico City'),\n",
       "  Text(0.0031828013398114293, -1.099995395342922, 'Los Angeles'),\n",
       "  Text(0.5940674110960629, -0.9257882647093889, 'London'),\n",
       "  Text(0.9468188758281934, -0.5599410829501943, 'Tokyo'),\n",
       "  Text(1.0734934673978487, -0.24002453094245155, 'Cairo'),\n",
       "  Text(1.0978824710303257, -0.0682208165030764, 'SÃ£o Paulo')])"
      ]
     },
     "execution_count": 57,
     "metadata": {},
     "output_type": "execute_result"
    },
    {
     "data": {
      "image/png": "[encoded data removed]",
      "text/plain": [
       "<Figure size 1200x600 with 1 Axes>"
      ]
     },
     "metadata": {},
     "output_type": "display_data"
    }
   ],
   "source": [
    "plt.pie(city_val,labels=citynames)"
   ]
  },
  {
   "cell_type": "code",
   "execution_count": 58,
   "id": "089a8307-36f7-4f61-8f55-b951a8c785da",
   "metadata": {},
   "outputs": [
    {
     "data": {
      "text/plain": [
       "([<matplotlib.patches.Wedge at 0x18a4c9eaad0>,\n",
       "  <matplotlib.patches.Wedge at 0x18a4c9ead50>,\n",
       "  <matplotlib.patches.Wedge at 0x18a4c9eafd0>,\n",
       "  <matplotlib.patches.Wedge at 0x18a4c9eb250>,\n",
       "  <matplotlib.patches.Wedge at 0x18a4c9eb4d0>],\n",
       " [Text(0.5306659613895076, 0.9635318559458996, 'Delhi'),\n",
       "  Text(-1.0924845302596093, 0.12836491398914537, 'Beijing'),\n",
       "  Text(-0.2810493146569759, -1.063490142281932, 'Mexico City'),\n",
       "  Text(0.6606659052546362, -0.8795001771654581, 'Los Angeles'),\n",
       "  Text(1.056637724421908, -0.30580503483182225, 'London')])"
      ]
     },
     "execution_count": 58,
     "metadata": {},
     "output_type": "execute_result"
    },
    {
     "data": {
      "image/png": "[encoded data removed]",
      "text/plain": [
       "<Figure size 1200x600 with 1 Axes>"
      ]
     },
     "metadata": {},
     "output_type": "display_data"
    }
   ],
   "source": [
    "plt.pie(city_val[:5],labels=citynames[:5])"
   ]
  },
  {
   "cell_type": "code",
   "execution_count": 59,
   "id": "7b7cbc8e-06e4-4f44-a17e-5387d0905711",
   "metadata": {},
   "outputs": [
    {
     "data": {
      "text/plain": [
       "([<matplotlib.patches.Wedge at 0x18a4ca1ead0>,\n",
       "  <matplotlib.patches.Wedge at 0x18a4ca1ed50>,\n",
       "  <matplotlib.patches.Wedge at 0x18a4ca1efd0>,\n",
       "  <matplotlib.patches.Wedge at 0x18a4ca1f250>],\n",
       " [Text(0.42661276745099824, 1.0139041111701839, 'Delhi'),\n",
       "  Text(-1.0820336880291637, -0.19799772213337855, 'Beijing'),\n",
       "  Text(0.19735034091812217, -1.082151950023425, 'Mexico City'),\n",
       "  Text(1.013648942152877, -0.4272187051995196, 'Los Angeles')])"
      ]
     },
     "execution_count": 59,
     "metadata": {},
     "output_type": "execute_result"
    },
    {
     "data": {
      "image/png": "[encoded data removed]",
      "text/plain": [
       "<Figure size 1200x600 with 1 Axes>"
      ]
     },
     "metadata": {},
     "output_type": "display_data"
    }
   ],
   "source": [
    "plt.pie(city_val[:4],labels=citynames[:4])"
   ]
  },
  {
   "cell_type": "code",
   "execution_count": 62,
   "id": "1b9f93f5-2ca8-4715-b6fb-e7ad4380b398",
   "metadata": {},
   "outputs": [
    {
     "data": {
      "text/plain": [
       "([<matplotlib.patches.Wedge at 0x18a4ca7a850>,\n",
       "  <matplotlib.patches.Wedge at 0x18a4ca7ac10>,\n",
       "  <matplotlib.patches.Wedge at 0x18a4ca7afd0>,\n",
       "  <matplotlib.patches.Wedge at 0x18a4ca7b390>,\n",
       "  <matplotlib.patches.Wedge at 0x18a4ca7b750>,\n",
       "  <matplotlib.patches.Wedge at 0x18a4ca7bb10>,\n",
       "  <matplotlib.patches.Wedge at 0x18a4ca7bed0>,\n",
       "  <matplotlib.patches.Wedge at 0x18a4caa82d0>],\n",
       " [Text(0.6491422763045459, 0.888039585330605, 'Delhi'),\n",
       "  Text(-0.9761471206336954, 0.507086579272757, 'Beijing'),\n",
       "  Text(-0.7826691035966038, -0.7729353622880045, 'Mexico City'),\n",
       "  Text(0.0031828013398114293, -1.099995395342922, 'Los Angeles'),\n",
       "  Text(0.5940674110960629, -0.9257882647093889, 'London'),\n",
       "  Text(0.9468188758281934, -0.5599410829501943, 'Tokyo'),\n",
       "  Text(1.0734934673978487, -0.24002453094245155, 'Cairo'),\n",
       "  Text(1.0978824710303257, -0.0682208165030764, 'SÃ£o Paulo')],\n",
       " [Text(0.354077605257025, 0.48438522836214815, '29.91%'),\n",
       "  Text(-0.5324438839820156, 0.276592679603322, '24.93%'),\n",
       "  Text(-0.42691042014360203, -0.42160110670254786, '15.12%'),\n",
       "  Text(0.0017360734580789611, -0.5999974883688665, '10.17%'),\n",
       "  Text(0.3240367696887615, -0.504975417114212, '7.89%'),\n",
       "  Text(0.5164466595426509, -0.3054224088819241, '6.95%'),\n",
       "  Text(0.5855418913079175, -0.13092247142315538, '3.05%'),\n",
       "  Text(0.5988449841983593, -0.03721135445622349, '1.98%')])"
      ]
     },
     "execution_count": 62,
     "metadata": {},
     "output_type": "execute_result"
    },
    {
     "data": {
      "image/png": "[encoded data removed]",
      "text/plain": [
       "<Figure size 1200x600 with 1 Axes>"
      ]
     },
     "metadata": {},
     "output_type": "display_data"
    }
   ],
   "source": [
    "plt.pie(city_val,labels=citynames,autopct='%1.2f%%')"
   ]
  },
  {
   "cell_type": "code",
   "execution_count": null,
   "id": "935c5399-b481-4bb9-9c9f-0f6a1e1143fb",
   "metadata": {},
   "outputs": [],
   "source": []
  }
 ],
 "metadata": {
  "kernelspec": {
   "display_name": "PYSPARK_KERNEL",
   "language": "python",
   "name": "pyspark_kernel"
  },
  "language_info": {
   "codemirror_mode": {
    "name": "ipython",
    "version": 3
   },
   "file_extension": ".py",
   "mimetype": "text/x-python",
   "name": "python",
   "nbconvert_exporter": "python",
   "pygments_lexer": "ipython3",
   "version": "3.13.5"
  }
 },
 "nbformat": 4,
 "nbformat_minor": 5
}
